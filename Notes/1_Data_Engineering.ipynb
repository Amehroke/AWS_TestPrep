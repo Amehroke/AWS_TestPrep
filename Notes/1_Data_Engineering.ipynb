{
 "cells": [
  {
   "cell_type": "markdown",
   "metadata": {},
   "source": [
    "# Data Engineering\n",
    "Moving, Storing and Processing data in AWS"
   ]
  },
  {
   "cell_type": "markdown",
   "metadata": {},
   "source": [
    "### To start off we will talk about the storage services avalibale on AWS. \n",
    "- Amazon S3 (Simple Storage Service): Object storage for unstructured data and data lakes.\n",
    "- Amazon DynamoDB: NoSQL key-value and document database for high-performance applications.\n",
    "- Amazon Redshift: Fully managed data warehouse designed for large-scale analytics.\n",
    "- Amazon EFS (Elastic File System):"
   ]
  },
  {
   "cell_type": "markdown",
   "metadata": {},
   "source": [
    "## S3"
   ]
  },
  {
   "cell_type": "markdown",
   "metadata": {},
   "source": [
    "This is used for storage lakes for unstructured data, (Data Lake). \n",
    "\n",
    "It is used by method called buckets in AWS \n",
    "- Example:  Image_Data/Animals/Dog/Pitbull\n",
    "    - In this each label is a bucket and they are globaly unique so in your entire AWS account only one Bucket can have that name. \n",
    "    - This full path of the object is refered to as the key\n",
    "    - Image_Data, Animals, Dog, Pitbull are seperate buckets\n",
    "    - Object storage => supports any file format\n",
    "**Backbone for many AWS ML services (example: SageMaker)** \n",
    "\n",
    "Limitations: \n",
    "- Max object size is 5TB\n"
   ]
  },
  {
   "cell_type": "markdown",
   "metadata": {},
   "source": [
    "### Storage Classes "
   ]
  },
  {
   "cell_type": "markdown",
   "metadata": {},
   "source": [
    "- Amazon S3 Standard - General Purpose\n",
    "- Amazon S3 Standard-Infrequent Access (IA)\n",
    "- Amazon S3 One Zone-Infrequent Access\n",
    "- Amazon S3 Glacier Instant Retrieval\n",
    "- Amazon S3 Glacier Flexible Retrieval\n",
    "- Amazon S3 Glacier Deep Archive\n",
    "- Amazon S3 Intelligent Tiering\n",
    "- Can move between classes manually or using S3 Lifecycle"
   ]
  },
  {
   "cell_type": "markdown",
   "metadata": {},
   "source": [
    "| **Storage Class**                          | **Use Cases**                                | **Retrieval Times**             | **Cost**                             |\n",
    "|--------------------------------------------|---------------------------------------------|---------------------------------|--------------------------------------|\n",
    "| **Amazon S3 Standard - General Purpose**   | Frequently accessed data.                   | Immediate                      | Highest cost per GB.                |\n",
    "| **Amazon S3 Standard-Infrequent Access (IA)** | Long-lived, infrequently accessed data. But requires immediate acess when needed. **Backups**     | Immediate                      | Lower storage cost, retrieval fees. |\n",
    "| **Amazon S3 One Zone-Infrequent Access**   | Secondary backups, easily reproducible data. | Immediate                      | Cheaper than Standard-IA.           |\n",
    "| **Amazon S3 Glacier Instant Retrieval**    | Archival data requiring millisecond access.  | Milliseconds                   | Low storage cost, higher retrieval fees. |\n",
    "| **Amazon S3 Glacier Flexible Retrieval**   | Long-term archival with occasional access.   | 1–5 minutes (expedited),3–5 hours (standard), 5–12 hours (bulk).       | Cheaper than Instant Retrieval.      |\n",
    "| **Amazon S3 Glacier Deep Archive**         | Regulatory or long-term archival storage.    | 12–48 hours                    | Lowest storage cost.                 |\n",
    "| **Amazon S3 Intelligent-Tiering**          | Data with unpredictable or dynamic access patterns. **Can move between classes manually or using S3 Lifecycle** | Varies by access tier               | Monitoring fee, cost varies by access tier. |"
   ]
  },
  {
   "cell_type": "markdown",
   "metadata": {},
   "source": [
    "---"
   ]
  },
  {
   "cell_type": "markdown",
   "metadata": {},
   "source": [
    "### Lifecycles of S3"
   ]
  },
  {
   "cell_type": "markdown",
   "metadata": {},
   "source": [
    "This displays the lifecycles for infrequent data:\n",
    "\n",
    "<div style=\"display: flex; align-items: center;\">\n",
    "    <!-- Text on the left -->\n",
    "    <div style=\"flex: 1; padding-right: 20px;\">\n",
    "        <p>We can set up actions to move tiers and delete objects:</p>\n",
    "        <ul>\n",
    "            <li>Move objects to Standard IA class 60 days after creation</li>\n",
    "            <li>Move to Glacier for archiving after 6 months</li>\n",
    "        </ul>\n",
    "    </div>\n",
    "    <div style=\"flex: 1; text-align: center;\">\n",
    "        <img src=\"../Figures/S3_Lifecycles.png\" alt=\"S3 Lifecycles\" style=\"width: 400px;\">\n",
    "    </div>\n",
    "</div>\n"
   ]
  },
  {
   "cell_type": "markdown",
   "metadata": {},
   "source": [
    "---"
   ]
  },
  {
   "cell_type": "markdown",
   "metadata": {},
   "source": [
    "\n",
    "**Example Problem:**\n",
    "- Your application on EC2 creates images thumbnails after profile photos are uploaded to Amazon S3. These thumbnails can be easily recreated, and only need to be kept for 60 days. The source images should be able to be immediately retrieved for these 60 days, and afterwards, the user can wait up to 6 hours. How would you design this?\n",
    "\n",
    "    - S3 source images can be on Standard, with a lifecycle configuration to transition them to Glacier after 60 days\n",
    "    - S3 thumbnails can be on One-Zone IA, with a lifecycle configuration to expire them (delete them) after 60 days"
   ]
  },
  {
   "cell_type": "markdown",
   "metadata": {},
   "source": [
    "---"
   ]
  },
  {
   "cell_type": "markdown",
   "metadata": {},
   "source": [
    "<div style=\"display: flex; align-items: center;\">\n",
    "    <!-- Text on the left -->\n",
    "    <div style=\"flex: 1; padding-right: 20px;\">\n",
    "        <h3>Amazon S3 Analytics – Storage Class Analysis</h3>\n",
    "        <ul>\n",
    "            <li>Helps you decide when to transition objects to the right storage class.</li>\n",
    "            <li>It only recommends for Standard and Standard IA, <strong>Does NOT work for One-Zone IA or Glacier.</strong></li>\n",
    "            <li>Report is updated daily, and it takes 24 to 48 hours to start seeing data analysis.</li>\n",
    "            <li><strong>Main purpose is to give insights on S3 lifecycles.</strong></li>\n",
    "        </ul>\n",
    "    </div>\n",
    "    <div style=\"flex: 1; text-align: center;\">\n",
    "        <img src=\"../Figures/S3_Analytics.png\" alt=\"Placeholder for S3 Analytics Image\" style=\"width: 200px; border: 1px dashed #ccc;\">\n",
    "    </div>\n",
    "</div>\n"
   ]
  },
  {
   "cell_type": "markdown",
   "metadata": {},
   "source": [
    "---"
   ]
  },
  {
   "cell_type": "markdown",
   "metadata": {},
   "source": [
    "### Security"
   ]
  },
  {
   "cell_type": "markdown",
   "metadata": {},
   "source": [
    "S3 security can be managed using **IAM roles** and **bucket policies**, which can be used either **together** or **independently**.\n",
    "\n",
    "- For public access(WorldWideWeb) we use the bucket policies. \n",
    "    - The **Block Public Access** setting prevents a bucket from being public, overriding any bucket policy, to mitigate data leaks.\n",
    "\n",
    "- For example:\n",
    "    - You attach an IAM role to an EC2 instance to allow it to access S3.\n",
    "    - The S3 bucket policy ensures only that specific IAM role can perform actions on a specific bucket.\n",
    "\n",
    "|IAM Role\t|Bucket Policy|\n",
    "|---|---|\n",
    "|Managed at the IAM level, tied to principals.|\tManaged at the S3 bucket level.|"
   ]
  },
  {
   "cell_type": "markdown",
   "metadata": {},
   "source": [
    "---"
   ]
  },
  {
   "cell_type": "markdown",
   "metadata": {},
   "source": [
    "#### Encryption of Data"
   ]
  },
  {
   "cell_type": "markdown",
   "metadata": {},
   "source": [
    "#### **4 Methods for Encrypting Objects in S3 Buckets**\n",
    "\n",
    "**Server-Side Encryption (SSE)**  \n",
    "   Encryption is handled by Amazon S3 on the server side.\n",
    "\n",
    "   1. **SSE with Amazon S3-Managed Keys (SSE-S3)** - **Default Option**  \n",
    "     - Encrypts S3 objects using keys managed and owned by AWS. \n",
    "     - Encryption is done serverside. \n",
    "\n",
    "   2. **SSE with KMS Keys (SSE-KMS)**  \n",
    "     - Leverages **AWS Key Management Service (KMS)** for key management.  \n",
    "     - Ideal for tighter control over key usage and permissions.\n",
    "\n",
    "   3. **SSE with Customer-Provided Keys (SSE-C)**  \n",
    "     - Allows you to manage your own encryption keys.  \n",
    "     - Keys must be provided with every request to Amazon S3.\n",
    "\n",
    "**Client-Side Encryption**  \n",
    "   4. Encryption occurs **before uploading objects to S3**.  \n",
    "   - Clients are responsible for managing encryption keys and operations.\n",
    "\n",
    "#### **Key Exam Tip**  \n",
    "Understand which encryption method applies to different scenarios for the exam, focusing on **SSE-KMS** for fine-grained control and **SSE-S3** for default managed encryption."
   ]
  },
  {
   "cell_type": "markdown",
   "metadata": {},
   "source": [
    "---"
   ]
  },
  {
   "cell_type": "markdown",
   "metadata": {},
   "source": [
    "#### SSE with Amazon S3-Managed Keys (SSE-S3)  \n",
    "Data is encrypted within AWS and stored in an S3 bucket, with encryption keys fully managed by AWS (not accessible to the owner).\n",
    "\n",
    "<div style=\"flex: 1; text-align: center;\">\n",
    "        <img src=\"../Figures/S3_Encryption_1.png\" alt=\"S3 Lifecycles\" style=\"width: 400px;\">\n",
    "</div>"
   ]
  },
  {
   "cell_type": "markdown",
   "metadata": {},
   "source": [
    "#### SSE with KMS Keys (SSE-KMS)  \n",
    "- Data is encrypted using customer-managed keys via AWS KMS, allowing S3 owners to control access and track key usage with CloudTrail. \n",
    "- Users need permissions in both the bucket policy and KMS key policy to access and decrypt data.\n",
    "\n",
    "\n",
    "<div style=\"flex: 1; text-align: center;\">\n",
    "        <img src=\"../Figures/S3_Encryption_2.png\" alt=\"S3 Lifecycles\" style=\"width: 400px;\">\n",
    "</div>\n",
    "\n",
    "**Limitations:**\n",
    "- Increase Latency in workflows. \n",
    "- API Limits: KMS API calls (e.g., Encrypt, Decrypt, GenerateDataKey) are subject to request rate limits, which could cause throttling if exceeded. "
   ]
  },
  {
   "cell_type": "markdown",
   "metadata": {},
   "source": [
    "#### SSE with Customer-Provided Keys (SSE-C)\n",
    "The encryption key is generated and managed on the client side. Data is sent with key and then AWS encriypts and discards key to store into S3. To read the client will provide the key again to decrypt the data. **Main: Key is client side and not stored in AWS**\n",
    "\n",
    "<div style=\"flex: 1; text-align: center;\">\n",
    "        <img src=\"../Figures/S3_Encryption_3.png\" alt=\"S3 Lifecycles\" style=\"width: 400px;\">\n",
    "</div>"
   ]
  },
  {
   "cell_type": "markdown",
   "metadata": {},
   "source": [
    "#### Client-Side Encryption  \n",
    "Data is encrypted before being uploaded to S3, with the owner managing the entire encryption lifecycle. Both encryption and decryption occur outside of AWS.\n",
    "\n",
    "<div style=\"flex: 1; text-align: center;\">\n",
    "        <img src=\"../Figures/S3_Encryption_4.png\" alt=\"S3 Lifecycles\" style=\"width: 400px;\">\n",
    "    </div>"
   ]
  }
 ],
 "metadata": {
  "kernelspec": {
   "display_name": "Python 3",
   "language": "python",
   "name": "python3"
  },
  "language_info": {
   "name": "python",
   "version": "3.11.10"
  }
 },
 "nbformat": 4,
 "nbformat_minor": 2
}
